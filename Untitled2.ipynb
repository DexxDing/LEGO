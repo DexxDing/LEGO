{
 "cells": [
  {
   "cell_type": "code",
   "execution_count": 1,
   "id": "676b4186-5a6a-4c41-a752-e035ad6480d2",
   "metadata": {},
   "outputs": [
    {
     "name": "stdout",
     "output_type": "stream",
     "text": [
      "nor_labels shape: (200,)\n",
      "abn_labels shape: (8993,)\n",
      "Combined labels shape: (9193,)\n"
     ]
    }
   ],
   "source": [
    "import numpy as np\n",
    "\n",
    "# Load the normal and abnormal labels\n",
    "nor_labels = np.load(\"compressed_gt-ped2.npy\")\n",
    "abn_labels = np.load(\"compressed_gt-sh2.npy\")\n",
    "\n",
    "# Print the shapes to confirm the sizes\n",
    "print(\"nor_labels shape:\", nor_labels.shape)\n",
    "print(\"abn_labels shape:\", abn_labels.shape)\n",
    "\n",
    "# Concatenate the arrays\n",
    "combined_labels = np.concatenate((nor_labels, abn_labels))\n",
    "\n",
    "# Save the combined array to a new .npy file\n",
    "np.save(\"gt-combine.npy\", combined_labels)\n",
    "\n",
    "# Confirm the operation by printing the shape of the combined array\n",
    "print(\"Combined labels shape:\", combined_labels.shape)"
   ]
  },
  {
   "cell_type": "code",
   "execution_count": null,
   "id": "52554bb2-3fb5-4fa8-9a9a-423385a3c549",
   "metadata": {},
   "outputs": [],
   "source": []
  }
 ],
 "metadata": {
  "kernelspec": {
   "display_name": "Python 3 (ipykernel)",
   "language": "python",
   "name": "python3"
  },
  "language_info": {
   "codemirror_mode": {
    "name": "ipython",
    "version": 3
   },
   "file_extension": ".py",
   "mimetype": "text/x-python",
   "name": "python",
   "nbconvert_exporter": "python",
   "pygments_lexer": "ipython3",
   "version": "3.12.3"
  }
 },
 "nbformat": 4,
 "nbformat_minor": 5
}
