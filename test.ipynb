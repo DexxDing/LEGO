{
 "cells": [
  {
   "cell_type": "code",
   "execution_count": 52,
   "metadata": {},
   "outputs": [
    {
     "name": "stdout",
     "output_type": "stream",
     "text": [
      "torch.Size([5, 3, 32, 32])\n",
      "0.0 0.0 0.0 \n",
      "0.0 1.0 2.0 \n",
      "0.0 2.0 4.0 \n",
      "0.0 3.0 6.0 \n",
      "0.0 4.0 8.0 \n",
      "\n",
      "torch.Size([5, 3, 1, 1])\n",
      "1.0 1.0 1.0 \n",
      "1.0 1.0 1.0 \n",
      "1.0 1.0 1.0 \n",
      "1.0 1.0 1.0 \n",
      "1.0 1.0 0.0 \n",
      "\n",
      "torch.Size([32, 32])\n",
      "tensor([[22., 22., 22.,  ..., 22., 22., 22.],\n",
      "        [22., 22., 22.,  ..., 22., 22., 22.],\n",
      "        [22., 22., 22.,  ..., 22., 22., 22.],\n",
      "        ...,\n",
      "        [22., 22., 22.,  ..., 22., 22., 22.],\n",
      "        [22., 22., 22.,  ..., 22., 22., 22.],\n",
      "        [22., 22., 22.,  ..., 22., 22., 22.]])\n"
     ]
    }
   ],
   "source": [
    "import torch\n",
    "import torch.nn as nn\n",
    "\n",
    "d_1, d_2 = 5, 3\n",
    "r_1 = torch.ones(d_1, 32, 32)\n",
    "r_2 = torch.ones(d_2, 32, 32)\n",
    "for i in range(d_1):\n",
    "    r_1[i] = i\n",
    "for i in range(d_2):\n",
    "    r_2[i] = i\n",
    "\n",
    "# step1\n",
    "product = r_1.unsqueeze(1) * r_2.unsqueeze(0)\n",
    "print(product.shape)\n",
    "for i in range(d_1):\n",
    "    for j in range(d_2):\n",
    "        print(product[i, j, 0, 0].item(), end=' ')\n",
    "    print()\n",
    "print()\n",
    "\n",
    "# initialize a\n",
    "a = torch.ones(d_1, d_2, 1, 1)\n",
    "a[-1, -1] = 0\n",
    "print(a.shape)\n",
    "for i in range(d_1):\n",
    "    for j in range(d_2):\n",
    "        print(a[i, j, 0, 0].item(), end=' ')\n",
    "    print()\n",
    "print()\n",
    "\n",
    "# step2\n",
    "temp_product = (product * a).sum(dim=(0, 1), keepdim=False)\n",
    "print(temp_product.shape)\n",
    "print(temp_product)"
   ]
  },
  {
   "cell_type": "code",
   "execution_count": null,
   "metadata": {},
   "outputs": [
    {
     "name": "stdout",
     "output_type": "stream",
     "text": [
      "torch.Size([5, 3, 32, 32])\n",
      "0.0 0.0 0.0 \n",
      "0.0 1.0 2.0 \n",
      "0.0 2.0 4.0 \n",
      "0.0 3.0 6.0 \n",
      "0.0 4.0 8.0 \n",
      "\n",
      "torch.Size([5, 3, 32, 32])\n",
      "torch.Size([3, 32, 32, 5])\n",
      "torch.Size([3, 32, 32])\n",
      "torch.Size([32, 32, 3])\n",
      "torch.Size([32, 32])\n",
      "torch.Size([32, 32])\n",
      "torch.Size([1, 5])\n",
      "torch.Size([1, 3])\n"
     ]
    }
   ],
   "source": [
    "import torch\n",
    "import torch.nn as nn\n",
    "\n",
    "d_1, d_2 = 5, 3\n",
    "r_1 = torch.ones(d_1, 32, 32)\n",
    "r_2 = torch.ones(d_2, 32, 32)\n",
    "for i in range(d_1):\n",
    "    r_1[i] = i\n",
    "for i in range(d_2):\n",
    "    r_2[i] = i\n",
    "\n",
    "# step1\n",
    "product = r_1.unsqueeze(1) * r_2.unsqueeze(0)\n",
    "print(product.shape)\n",
    "for i in range(d_1):\n",
    "    for j in range(d_2):\n",
    "        print(product[i, j, 0, 0].item(), end=' ')\n",
    "    print()\n",
    "print()\n",
    "\n",
    "\n",
    "# step2\n",
    "class test_model(nn.Module):\n",
    "    def __init__(self, d_1, d_2):\n",
    "        super(test_model, self).__init__()\n",
    "        self.fc1 = nn.Linear(d_1, 1)\n",
    "        self.fc2 = nn.Linear(d_2, 1)\n",
    "\n",
    "    def forward(self, x):\n",
    "        x = x.permute(1, 2, 3, 0)\n",
    "        x = self.fc1(x).squeeze(-1)\n",
    "        x = x.permute(1, 2, 0)\n",
    "        x = self.fc2(x).squeeze(-1)\n",
    "        return x\n",
    "    \n",
    "\n",
    "model = test_model(d_1, d_2)\n",
    "result = model(product)\n",
    "print(result.shape)\n",
    "print(model.fc1.weight.shape)\n",
    "print(model.fc2.weight.shape)"
   ]
  },
  {
   "cell_type": "code",
   "execution_count": 16,
   "metadata": {},
   "outputs": [
    {
     "name": "stdout",
     "output_type": "stream",
     "text": [
      "tensor([[[ 0.0982,  2.7188,  1.0380,  0.9596],\n",
      "         [-2.3485,  2.4026, -0.6437, -0.6879],\n",
      "         [ 1.6365, -2.3075, -0.0965, -1.4783],\n",
      "         [ 2.3570, -1.6293,  0.8727,  1.4234]]])\n",
      "torch.Size([1, 4, 4])\n",
      "torch.Size([1, 2, 2])\n"
     ]
    }
   ],
   "source": [
    "import torch\n",
    "import torch.nn as nn\n",
    "\n",
    "m = nn.Conv1d(4, 2, 3, stride=1)\n",
    "input = torch.randn(1, 4, 4)\n",
    "print(input)\n",
    "print(input.size())\n",
    "output = m(input)\n",
    "print(output.size())"
   ]
  },
  {
   "cell_type": "code",
   "execution_count": 35,
   "metadata": {},
   "outputs": [
    {
     "name": "stdout",
     "output_type": "stream",
     "text": [
      "torch.Size([1, 4, 4])\n",
      "torch.Size([1, 1, 4, 4])\n"
     ]
    },
    {
     "ename": "AttributeError",
     "evalue": "'list' object has no attribute 'shape'",
     "output_type": "error",
     "traceback": [
      "\u001b[0;31m---------------------------------------------------------------------------\u001b[0m",
      "\u001b[0;31mAttributeError\u001b[0m                            Traceback (most recent call last)",
      "Cell \u001b[0;32mIn[35], line 7\u001b[0m\n\u001b[1;32m      5\u001b[0m \u001b[38;5;28mprint\u001b[39m(a_v\u001b[38;5;241m.\u001b[39munsqueeze(\u001b[38;5;241m1\u001b[39m)\u001b[38;5;241m.\u001b[39mshape)\n\u001b[1;32m      6\u001b[0m av_powers \u001b[38;5;241m=\u001b[39m [torch\u001b[38;5;241m.\u001b[39mpow(a_v, i) \u001b[38;5;28;01mfor\u001b[39;00m i \u001b[38;5;129;01min\u001b[39;00m \u001b[38;5;28mrange\u001b[39m(m)]\n\u001b[0;32m----> 7\u001b[0m \u001b[38;5;28mprint\u001b[39m(\u001b[43mav_powers\u001b[49m\u001b[38;5;241;43m.\u001b[39;49m\u001b[43mshape\u001b[49m)\n\u001b[1;32m      9\u001b[0m \u001b[38;5;28;01mfor\u001b[39;00m i \u001b[38;5;129;01min\u001b[39;00m \u001b[38;5;28mrange\u001b[39m(m):\n\u001b[1;32m     10\u001b[0m     \u001b[38;5;28mprint\u001b[39m(av_powers[i])\n",
      "\u001b[0;31mAttributeError\u001b[0m: 'list' object has no attribute 'shape'"
     ]
    }
   ],
   "source": [
    "import torch\n",
    "m = 4\n",
    "a_v = torch.randn(1, 4, 4)\n",
    "print(a_v.shape)\n",
    "print(a_v.unsqueeze(1).shape)\n",
    "av_powers = [torch.pow(a_v, i) for i in range(m)]\n",
    "print(av_powers.shape)\n",
    "\n",
    "for i in range(m):\n",
    "    print(av_powers[i])"
   ]
  },
  {
   "cell_type": "code",
   "execution_count": 25,
   "metadata": {},
   "outputs": [
    {
     "name": "stdout",
     "output_type": "stream",
     "text": [
      "torch.Size([40, 32, 32])\n",
      "tensor([[[1., 0., 0.,  ..., 0., 0., 0.],\n",
      "         [0., 1., 0.,  ..., 0., 0., 0.],\n",
      "         [0., 0., 1.,  ..., 0., 0., 0.],\n",
      "         ...,\n",
      "         [0., 0., 0.,  ..., 1., 0., 0.],\n",
      "         [0., 0., 0.,  ..., 0., 1., 0.],\n",
      "         [0., 0., 0.,  ..., 0., 0., 1.]],\n",
      "\n",
      "        [[1., 0., 0.,  ..., 0., 0., 0.],\n",
      "         [0., 1., 0.,  ..., 0., 0., 0.],\n",
      "         [0., 0., 1.,  ..., 0., 0., 0.],\n",
      "         ...,\n",
      "         [0., 0., 0.,  ..., 1., 0., 0.],\n",
      "         [0., 0., 0.,  ..., 0., 1., 0.],\n",
      "         [0., 0., 0.,  ..., 0., 0., 1.]],\n",
      "\n",
      "        [[1., 0., 0.,  ..., 0., 0., 0.],\n",
      "         [0., 1., 0.,  ..., 0., 0., 0.],\n",
      "         [0., 0., 1.,  ..., 0., 0., 0.],\n",
      "         ...,\n",
      "         [0., 0., 0.,  ..., 1., 0., 0.],\n",
      "         [0., 0., 0.,  ..., 0., 1., 0.],\n",
      "         [0., 0., 0.,  ..., 0., 0., 1.]],\n",
      "\n",
      "        ...,\n",
      "\n",
      "        [[1., 0., 0.,  ..., 0., 0., 0.],\n",
      "         [0., 1., 0.,  ..., 0., 0., 0.],\n",
      "         [0., 0., 1.,  ..., 0., 0., 0.],\n",
      "         ...,\n",
      "         [0., 0., 0.,  ..., 1., 0., 0.],\n",
      "         [0., 0., 0.,  ..., 0., 1., 0.],\n",
      "         [0., 0., 0.,  ..., 0., 0., 1.]],\n",
      "\n",
      "        [[1., 0., 0.,  ..., 0., 0., 0.],\n",
      "         [0., 1., 0.,  ..., 0., 0., 0.],\n",
      "         [0., 0., 1.,  ..., 0., 0., 0.],\n",
      "         ...,\n",
      "         [0., 0., 0.,  ..., 1., 0., 0.],\n",
      "         [0., 0., 0.,  ..., 0., 1., 0.],\n",
      "         [0., 0., 0.,  ..., 0., 0., 1.]],\n",
      "\n",
      "        [[1., 0., 0.,  ..., 0., 0., 0.],\n",
      "         [0., 1., 0.,  ..., 0., 0., 0.],\n",
      "         [0., 0., 1.,  ..., 0., 0., 0.],\n",
      "         ...,\n",
      "         [0., 0., 0.,  ..., 1., 0., 0.],\n",
      "         [0., 0., 0.,  ..., 0., 1., 0.],\n",
      "         [0., 0., 0.,  ..., 0., 0., 1.]]])\n"
     ]
    }
   ],
   "source": [
    "bs_channel, sinp, feature_dim = 40, 32, 32\n",
    "single_identity = torch.eye(feature_dim).unsqueeze(0).expand(bs_channel, -1, -1)\n",
    "print(single_identity.size())\n",
    "print(single_identity)"
   ]
  }
 ],
 "metadata": {
  "kernelspec": {
   "display_name": "Python 3",
   "language": "python",
   "name": "python3"
  },
  "language_info": {
   "codemirror_mode": {
    "name": "ipython",
    "version": 3
   },
   "file_extension": ".py",
   "mimetype": "text/x-python",
   "name": "python",
   "nbconvert_exporter": "python",
   "pygments_lexer": "ipython3",
   "version": "3.9.17"
  }
 },
 "nbformat": 4,
 "nbformat_minor": 2
}
